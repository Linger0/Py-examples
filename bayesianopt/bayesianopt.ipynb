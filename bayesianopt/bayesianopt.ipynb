{
 "cells": [
  {
   "cell_type": "code",
   "execution_count": 1,
   "metadata": {},
   "outputs": [],
   "source": [
    "from sklearn.datasets import make_classification\n",
    "from sklearn.ensemble import RandomForestClassifier\n",
    "from sklearn.model_selection import cross_val_score\n",
    "from bayes_opt import BayesianOptimization\n",
    "import numpy as np"
   ]
  },
  {
   "cell_type": "code",
   "execution_count": 2,
   "metadata": {},
   "outputs": [],
   "source": [
    "# Dataset: 10 features, 2 classes\n",
    "x, y = make_classification(n_samples=1000, n_features=10, n_classes=2)"
   ]
  },
  {
   "cell_type": "code",
   "execution_count": 3,
   "metadata": {},
   "outputs": [
    {
     "name": "stdout",
     "output_type": "stream",
     "text": [
      "0.9873191666666665\n"
     ]
    }
   ],
   "source": [
    "rf = RandomForestClassifier()\n",
    "print(np.mean(cross_val_score(rf, x, y, cv=20, scoring='roc_auc')))"
   ]
  },
  {
   "cell_type": "code",
   "execution_count": 4,
   "metadata": {},
   "outputs": [],
   "source": [
    "def rf_cv(n_estimators, min_samples_split, max_features, max_depth):\n",
    "    val = cross_val_score(\n",
    "        RandomForestClassifier(n_estimators=int(n_estimators),\n",
    "            min_samples_split=int(min_samples_split),\n",
    "            max_features=min(max_features, 0.999), # float\n",
    "            max_depth=int(max_depth),\n",
    "            random_state=2\n",
    "        ),\n",
    "        x, y, scoring='roc_auc', cv=5\n",
    "    ).mean()\n",
    "    return val"
   ]
  },
  {
   "cell_type": "code",
   "execution_count": 11,
   "metadata": {},
   "outputs": [
    {
     "name": "stdout",
     "output_type": "stream",
     "text": [
      "|   iter    |  target   | max_depth | max_fe... | min_sa... | n_esti... |\n",
      "-------------------------------------------------------------------------\n",
      "| \u001b[0m1        \u001b[0m | \u001b[0m0.9835   \u001b[0m | \u001b[0m9.17     \u001b[0m | \u001b[0m0.7476   \u001b[0m | \u001b[0m2.003    \u001b[0m | \u001b[0m82.56    \u001b[0m |\n",
      "| \u001b[0m2        \u001b[0m | \u001b[0m0.9672   \u001b[0m | \u001b[0m6.468    \u001b[0m | \u001b[0m0.183    \u001b[0m | \u001b[0m6.284    \u001b[0m | \u001b[0m92.93    \u001b[0m |\n",
      "| \u001b[95m3        \u001b[0m | \u001b[95m0.9843   \u001b[0m | \u001b[95m8.968    \u001b[0m | \u001b[95m0.5844   \u001b[0m | \u001b[95m11.64    \u001b[0m | \u001b[95m174.5    \u001b[0m |\n",
      "| \u001b[0m4        \u001b[0m | \u001b[0m0.9831   \u001b[0m | \u001b[0m7.045    \u001b[0m | \u001b[0m0.8894   \u001b[0m | \u001b[0m2.63     \u001b[0m | \u001b[0m170.9    \u001b[0m |\n",
      "| \u001b[0m5        \u001b[0m | \u001b[0m0.9836   \u001b[0m | \u001b[0m9.173    \u001b[0m | \u001b[0m0.6023   \u001b[0m | \u001b[0m5.229    \u001b[0m | \u001b[0m57.54    \u001b[0m |\n",
      "| \u001b[0m6        \u001b[0m | \u001b[0m0.9806   \u001b[0m | \u001b[0m9.957    \u001b[0m | \u001b[0m0.2824   \u001b[0m | \u001b[0m11.52    \u001b[0m | \u001b[0m175.7    \u001b[0m |\n",
      "| \u001b[0m7        \u001b[0m | \u001b[0m0.9843   \u001b[0m | \u001b[0m7.278    \u001b[0m | \u001b[0m0.5126   \u001b[0m | \u001b[0m9.285    \u001b[0m | \u001b[0m171.4    \u001b[0m |\n",
      "| \u001b[0m8        \u001b[0m | \u001b[0m0.982    \u001b[0m | \u001b[0m5.969    \u001b[0m | \u001b[0m0.999    \u001b[0m | \u001b[0m14.96    \u001b[0m | \u001b[0m171.7    \u001b[0m |\n",
      "| \u001b[0m9        \u001b[0m | \u001b[0m0.9836   \u001b[0m | \u001b[0m10.69    \u001b[0m | \u001b[0m0.706    \u001b[0m | \u001b[0m12.88    \u001b[0m | \u001b[0m167.9    \u001b[0m |\n",
      "| \u001b[0m10       \u001b[0m | \u001b[0m0.9821   \u001b[0m | \u001b[0m11.46    \u001b[0m | \u001b[0m0.2633   \u001b[0m | \u001b[0m5.757    \u001b[0m | \u001b[0m166.0    \u001b[0m |\n",
      "| \u001b[0m11       \u001b[0m | \u001b[0m0.9818   \u001b[0m | \u001b[0m11.34    \u001b[0m | \u001b[0m0.8473   \u001b[0m | \u001b[0m2.871    \u001b[0m | \u001b[0m76.63    \u001b[0m |\n",
      "| \u001b[0m12       \u001b[0m | \u001b[0m0.966    \u001b[0m | \u001b[0m5.02     \u001b[0m | \u001b[0m0.1724   \u001b[0m | \u001b[0m7.698    \u001b[0m | \u001b[0m175.1    \u001b[0m |\n",
      "| \u001b[0m13       \u001b[0m | \u001b[0m0.9726   \u001b[0m | \u001b[0m8.184    \u001b[0m | \u001b[0m0.1631   \u001b[0m | \u001b[0m12.05    \u001b[0m | \u001b[0m171.1    \u001b[0m |\n",
      "| \u001b[0m14       \u001b[0m | \u001b[0m0.9716   \u001b[0m | \u001b[0m7.157    \u001b[0m | \u001b[0m0.1168   \u001b[0m | \u001b[0m8.269    \u001b[0m | \u001b[0m171.1    \u001b[0m |\n",
      "| \u001b[0m15       \u001b[0m | \u001b[0m0.9799   \u001b[0m | \u001b[0m8.972    \u001b[0m | \u001b[0m0.2746   \u001b[0m | \u001b[0m3.216    \u001b[0m | \u001b[0m92.79    \u001b[0m |\n",
      "| \u001b[0m16       \u001b[0m | \u001b[0m0.984    \u001b[0m | \u001b[0m5.095    \u001b[0m | \u001b[0m0.5946   \u001b[0m | \u001b[0m5.726    \u001b[0m | \u001b[0m124.7    \u001b[0m |\n",
      "| \u001b[0m17       \u001b[0m | \u001b[0m0.9843   \u001b[0m | \u001b[0m8.324    \u001b[0m | \u001b[0m0.5358   \u001b[0m | \u001b[0m11.59    \u001b[0m | \u001b[0m207.0    \u001b[0m |\n",
      "| \u001b[0m18       \u001b[0m | \u001b[0m0.9837   \u001b[0m | \u001b[0m7.341    \u001b[0m | \u001b[0m0.5019   \u001b[0m | \u001b[0m14.65    \u001b[0m | \u001b[0m237.8    \u001b[0m |\n",
      "| \u001b[95m19       \u001b[0m | \u001b[95m0.9847   \u001b[0m | \u001b[95m6.179    \u001b[0m | \u001b[95m0.5949   \u001b[0m | \u001b[95m13.3     \u001b[0m | \u001b[95m45.03    \u001b[0m |\n",
      "| \u001b[0m20       \u001b[0m | \u001b[0m0.9726   \u001b[0m | \u001b[0m7.627    \u001b[0m | \u001b[0m0.1196   \u001b[0m | \u001b[0m5.852    \u001b[0m | \u001b[0m164.0    \u001b[0m |\n",
      "| \u001b[0m21       \u001b[0m | \u001b[0m0.9812   \u001b[0m | \u001b[0m6.961    \u001b[0m | \u001b[0m0.4599   \u001b[0m | \u001b[0m13.85    \u001b[0m | \u001b[0m26.82    \u001b[0m |\n",
      "| \u001b[0m22       \u001b[0m | \u001b[0m0.9824   \u001b[0m | \u001b[0m6.808    \u001b[0m | \u001b[0m0.3443   \u001b[0m | \u001b[0m20.48    \u001b[0m | \u001b[0m165.5    \u001b[0m |\n",
      "| \u001b[0m23       \u001b[0m | \u001b[0m0.9834   \u001b[0m | \u001b[0m6.337    \u001b[0m | \u001b[0m0.5566   \u001b[0m | \u001b[0m22.45    \u001b[0m | \u001b[0m146.1    \u001b[0m |\n",
      "| \u001b[0m24       \u001b[0m | \u001b[0m0.9778   \u001b[0m | \u001b[0m6.516    \u001b[0m | \u001b[0m0.2836   \u001b[0m | \u001b[0m17.47    \u001b[0m | \u001b[0m220.0    \u001b[0m |\n",
      "| \u001b[0m25       \u001b[0m | \u001b[0m0.9764   \u001b[0m | \u001b[0m13.18    \u001b[0m | \u001b[0m0.247    \u001b[0m | \u001b[0m2.346    \u001b[0m | \u001b[0m48.64    \u001b[0m |\n",
      "| \u001b[0m26       \u001b[0m | \u001b[0m0.9832   \u001b[0m | \u001b[0m14.86    \u001b[0m | \u001b[0m0.7368   \u001b[0m | \u001b[0m15.4     \u001b[0m | \u001b[0m189.1    \u001b[0m |\n",
      "| \u001b[0m27       \u001b[0m | \u001b[0m0.9827   \u001b[0m | \u001b[0m13.99    \u001b[0m | \u001b[0m0.5065   \u001b[0m | \u001b[0m11.18    \u001b[0m | \u001b[0m84.77    \u001b[0m |\n",
      "| \u001b[0m28       \u001b[0m | \u001b[0m0.9827   \u001b[0m | \u001b[0m14.89    \u001b[0m | \u001b[0m0.785    \u001b[0m | \u001b[0m16.05    \u001b[0m | \u001b[0m189.1    \u001b[0m |\n",
      "| \u001b[0m29       \u001b[0m | \u001b[0m0.9818   \u001b[0m | \u001b[0m6.636    \u001b[0m | \u001b[0m0.7415   \u001b[0m | \u001b[0m13.38    \u001b[0m | \u001b[0m44.29    \u001b[0m |\n",
      "| \u001b[0m30       \u001b[0m | \u001b[0m0.9835   \u001b[0m | \u001b[0m5.751    \u001b[0m | \u001b[0m0.7624   \u001b[0m | \u001b[0m13.63    \u001b[0m | \u001b[0m44.52    \u001b[0m |\n",
      "=========================================================================\n"
     ]
    }
   ],
   "source": [
    "rf_bo = BayesianOptimization(\n",
    "    f=rf_cv,\n",
    "    pbounds={\n",
    "        'n_estimators': (10, 250),\n",
    "        'min_samples_split': (2, 25),\n",
    "        'max_features': (0.1, 0.999),\n",
    "        'max_depth': (5, 15)\n",
    "    },\n",
    "    random_state=1\n",
    ")\n",
    "\n",
    "rf_bo.maximize(\n",
    "    # init_points=3,\n",
    "    # n_iter=3\n",
    ")"
   ]
  },
  {
   "cell_type": "code",
   "execution_count": 12,
   "metadata": {},
   "outputs": [
    {
     "data": {
      "text/plain": [
       "{'target': 0.9846996019601961,\n",
       " 'params': {'max_depth': 6.178710631830722,\n",
       "  'max_features': 0.5949274551032339,\n",
       "  'min_samples_split': 13.30369823056283,\n",
       "  'n_estimators': 45.03053459891462}}"
      ]
     },
     "execution_count": 12,
     "metadata": {},
     "output_type": "execute_result"
    }
   ],
   "source": [
    "rf_bo.max"
   ]
  }
 ],
 "metadata": {
  "kernelspec": {
   "display_name": "Python 3.8.10 ('toy')",
   "language": "python",
   "name": "python3"
  },
  "language_info": {
   "codemirror_mode": {
    "name": "ipython",
    "version": 3
   },
   "file_extension": ".py",
   "mimetype": "text/x-python",
   "name": "python",
   "nbconvert_exporter": "python",
   "pygments_lexer": "ipython3",
   "version": "3.8.10"
  },
  "orig_nbformat": 4,
  "vscode": {
   "interpreter": {
    "hash": "1c6a0ed30d9299470644ebbf9a37753d13ae6e28ad3dae716fe59fb7d20af740"
   }
  }
 },
 "nbformat": 4,
 "nbformat_minor": 2
}
